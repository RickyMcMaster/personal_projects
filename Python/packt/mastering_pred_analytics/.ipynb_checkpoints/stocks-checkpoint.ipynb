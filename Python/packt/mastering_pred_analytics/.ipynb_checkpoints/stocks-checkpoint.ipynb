{
 "cells": [
  {
   "cell_type": "code",
   "execution_count": 2,
   "metadata": {},
   "outputs": [
    {
     "ename": "ModuleNotFoundError",
     "evalue": "No module named 'fastdtw'",
     "output_type": "error",
     "traceback": [
      "\u001b[0;31m---------------------------------------------------------------------------\u001b[0m",
      "\u001b[0;31mModuleNotFoundError\u001b[0m                       Traceback (most recent call last)",
      "\u001b[0;32m<ipython-input-2-111dff13177f>\u001b[0m in \u001b[0;36m<module>\u001b[0;34m()\u001b[0m\n\u001b[1;32m      1\u001b[0m \u001b[0;32mimport\u001b[0m \u001b[0mpandas\u001b[0m \u001b[0;32mas\u001b[0m \u001b[0mpd\u001b[0m\u001b[0;34m\u001b[0m\u001b[0;34m\u001b[0m\u001b[0m\n\u001b[0;32m----> 2\u001b[0;31m \u001b[0;32mfrom\u001b[0m \u001b[0mfastdtw\u001b[0m \u001b[0;32mimport\u001b[0m \u001b[0mfastdtw\u001b[0m\u001b[0;34m\u001b[0m\u001b[0;34m\u001b[0m\u001b[0m\n\u001b[0m",
      "\u001b[0;31mModuleNotFoundError\u001b[0m: No module named 'fastdtw'"
     ]
    }
   ],
   "source": [
    "import pandas as pd\n",
    "from fastdtw import fastdtw"
   ]
  },
  {
   "cell_type": "code",
   "execution_count": 69,
   "metadata": {},
   "outputs": [
    {
     "data": {
      "text/html": [
       "<div>\n",
       "<style scoped>\n",
       "    .dataframe tbody tr th:only-of-type {\n",
       "        vertical-align: middle;\n",
       "    }\n",
       "\n",
       "    .dataframe tbody tr th {\n",
       "        vertical-align: top;\n",
       "    }\n",
       "\n",
       "    .dataframe thead th {\n",
       "        text-align: right;\n",
       "    }\n",
       "</style>\n",
       "<table border=\"1\" class=\"dataframe\">\n",
       "  <thead>\n",
       "    <tr style=\"text-align: right;\">\n",
       "      <th></th>\n",
       "      <th>quarter</th>\n",
       "      <th>stock</th>\n",
       "      <th>date</th>\n",
       "      <th>open</th>\n",
       "      <th>high</th>\n",
       "      <th>low</th>\n",
       "      <th>close</th>\n",
       "      <th>volume</th>\n",
       "      <th>percent_change_price</th>\n",
       "      <th>percent_change_volume_over_last_wk</th>\n",
       "      <th>previous_weeks_volume</th>\n",
       "      <th>next_weeks_open</th>\n",
       "      <th>next_weeks_close</th>\n",
       "      <th>percent_change_next_weeks_price</th>\n",
       "      <th>days_to_next_dividend</th>\n",
       "      <th>percent_return_next_dividend</th>\n",
       "    </tr>\n",
       "  </thead>\n",
       "  <tbody>\n",
       "    <tr>\n",
       "      <th>0</th>\n",
       "      <td>1</td>\n",
       "      <td>AA</td>\n",
       "      <td>2011-01-07</td>\n",
       "      <td>$15.82</td>\n",
       "      <td>$16.72</td>\n",
       "      <td>$15.78</td>\n",
       "      <td>$16.42</td>\n",
       "      <td>239655616</td>\n",
       "      <td>3.79267</td>\n",
       "      <td>NaN</td>\n",
       "      <td>NaN</td>\n",
       "      <td>$16.71</td>\n",
       "      <td>$15.97</td>\n",
       "      <td>-4.428490</td>\n",
       "      <td>26</td>\n",
       "      <td>0.182704</td>\n",
       "    </tr>\n",
       "    <tr>\n",
       "      <th>1</th>\n",
       "      <td>1</td>\n",
       "      <td>AA</td>\n",
       "      <td>2011-01-14</td>\n",
       "      <td>$16.71</td>\n",
       "      <td>$16.71</td>\n",
       "      <td>$15.64</td>\n",
       "      <td>$15.97</td>\n",
       "      <td>242963398</td>\n",
       "      <td>-4.42849</td>\n",
       "      <td>1.380223</td>\n",
       "      <td>239655616.0</td>\n",
       "      <td>$16.19</td>\n",
       "      <td>$15.79</td>\n",
       "      <td>-2.470660</td>\n",
       "      <td>19</td>\n",
       "      <td>0.187852</td>\n",
       "    </tr>\n",
       "    <tr>\n",
       "      <th>2</th>\n",
       "      <td>1</td>\n",
       "      <td>AA</td>\n",
       "      <td>2011-01-21</td>\n",
       "      <td>$16.19</td>\n",
       "      <td>$16.38</td>\n",
       "      <td>$15.60</td>\n",
       "      <td>$15.79</td>\n",
       "      <td>138428495</td>\n",
       "      <td>-2.47066</td>\n",
       "      <td>-43.024959</td>\n",
       "      <td>242963398.0</td>\n",
       "      <td>$15.87</td>\n",
       "      <td>$16.13</td>\n",
       "      <td>1.638310</td>\n",
       "      <td>12</td>\n",
       "      <td>0.189994</td>\n",
       "    </tr>\n",
       "    <tr>\n",
       "      <th>3</th>\n",
       "      <td>1</td>\n",
       "      <td>AA</td>\n",
       "      <td>2011-01-28</td>\n",
       "      <td>$15.87</td>\n",
       "      <td>$16.63</td>\n",
       "      <td>$15.82</td>\n",
       "      <td>$16.13</td>\n",
       "      <td>151379173</td>\n",
       "      <td>1.63831</td>\n",
       "      <td>9.355500</td>\n",
       "      <td>138428495.0</td>\n",
       "      <td>$16.18</td>\n",
       "      <td>$17.14</td>\n",
       "      <td>5.933250</td>\n",
       "      <td>5</td>\n",
       "      <td>0.185989</td>\n",
       "    </tr>\n",
       "    <tr>\n",
       "      <th>4</th>\n",
       "      <td>1</td>\n",
       "      <td>AA</td>\n",
       "      <td>2011-02-04</td>\n",
       "      <td>$16.18</td>\n",
       "      <td>$17.39</td>\n",
       "      <td>$16.18</td>\n",
       "      <td>$17.14</td>\n",
       "      <td>154387761</td>\n",
       "      <td>5.93325</td>\n",
       "      <td>1.987452</td>\n",
       "      <td>151379173.0</td>\n",
       "      <td>$17.33</td>\n",
       "      <td>$17.37</td>\n",
       "      <td>0.230814</td>\n",
       "      <td>97</td>\n",
       "      <td>0.175029</td>\n",
       "    </tr>\n",
       "  </tbody>\n",
       "</table>\n",
       "</div>"
      ],
      "text/plain": [
       "   quarter stock       date    open    high     low   close     volume  \\\n",
       "0        1    AA 2011-01-07  $15.82  $16.72  $15.78  $16.42  239655616   \n",
       "1        1    AA 2011-01-14  $16.71  $16.71  $15.64  $15.97  242963398   \n",
       "2        1    AA 2011-01-21  $16.19  $16.38  $15.60  $15.79  138428495   \n",
       "3        1    AA 2011-01-28  $15.87  $16.63  $15.82  $16.13  151379173   \n",
       "4        1    AA 2011-02-04  $16.18  $17.39  $16.18  $17.14  154387761   \n",
       "\n",
       "   percent_change_price  percent_change_volume_over_last_wk  \\\n",
       "0               3.79267                                 NaN   \n",
       "1              -4.42849                            1.380223   \n",
       "2              -2.47066                          -43.024959   \n",
       "3               1.63831                            9.355500   \n",
       "4               5.93325                            1.987452   \n",
       "\n",
       "   previous_weeks_volume next_weeks_open next_weeks_close  \\\n",
       "0                    NaN          $16.71           $15.97   \n",
       "1            239655616.0          $16.19           $15.79   \n",
       "2            242963398.0          $15.87           $16.13   \n",
       "3            138428495.0          $16.18           $17.14   \n",
       "4            151379173.0          $17.33           $17.37   \n",
       "\n",
       "   percent_change_next_weeks_price  days_to_next_dividend  \\\n",
       "0                        -4.428490                     26   \n",
       "1                        -2.470660                     19   \n",
       "2                         1.638310                     12   \n",
       "3                         5.933250                      5   \n",
       "4                         0.230814                     97   \n",
       "\n",
       "   percent_return_next_dividend  \n",
       "0                      0.182704  \n",
       "1                      0.187852  \n",
       "2                      0.189994  \n",
       "3                      0.185989  \n",
       "4                      0.175029  "
      ]
     },
     "execution_count": 69,
     "metadata": {},
     "output_type": "execute_result"
    }
   ],
   "source": [
    "df = pd.read_csv(\"dow_jones_index/dow_jones_index.data\", parse_dates=['date'])\n",
    "df.head()"
   ]
  },
  {
   "cell_type": "code",
   "execution_count": 70,
   "metadata": {},
   "outputs": [
    {
     "data": {
      "text/plain": [
       "quarter                                        int64\n",
       "stock                                         object\n",
       "date                                  datetime64[ns]\n",
       "open                                          object\n",
       "high                                          object\n",
       "low                                           object\n",
       "close                                         object\n",
       "volume                                         int64\n",
       "percent_change_price                         float64\n",
       "percent_change_volume_over_last_wk           float64\n",
       "previous_weeks_volume                        float64\n",
       "next_weeks_open                               object\n",
       "next_weeks_close                              object\n",
       "percent_change_next_weeks_price              float64\n",
       "days_to_next_dividend                          int64\n",
       "percent_return_next_dividend                 float64\n",
       "dtype: object"
      ]
     },
     "execution_count": 70,
     "metadata": {},
     "output_type": "execute_result"
    }
   ],
   "source": [
    "df.dtypes"
   ]
  },
  {
   "cell_type": "markdown",
   "metadata": {},
   "source": [
    "To convert the closing price to a number, we apply an anonymous function that takes\n",
    "all characters but the dollar sign and casts it as a float."
   ]
  },
  {
   "cell_type": "code",
   "execution_count": 71,
   "metadata": {},
   "outputs": [
    {
     "data": {
      "text/plain": [
       "quarter                                        int64\n",
       "stock                                         object\n",
       "date                                  datetime64[ns]\n",
       "open                                          object\n",
       "high                                          object\n",
       "low                                           object\n",
       "close                                         object\n",
       "volume                                         int64\n",
       "percent_change_price                         float64\n",
       "percent_change_volume_over_last_wk           float64\n",
       "previous_weeks_volume                        float64\n",
       "next_weeks_open                               object\n",
       "next_weeks_close                              object\n",
       "percent_change_next_weeks_price              float64\n",
       "days_to_next_dividend                          int64\n",
       "percent_return_next_dividend                 float64\n",
       "dtype: object"
      ]
     },
     "execution_count": 71,
     "metadata": {},
     "output_type": "execute_result"
    }
   ],
   "source": [
    "# df.close = df.close.apply( lambda x: float(x[1:]))\n",
    "df.dtypes"
   ]
  },
  {
   "cell_type": "code",
   "execution_count": 72,
   "metadata": {},
   "outputs": [
    {
     "data": {
      "text/html": [
       "<div>\n",
       "<style scoped>\n",
       "    .dataframe tbody tr th:only-of-type {\n",
       "        vertical-align: middle;\n",
       "    }\n",
       "\n",
       "    .dataframe tbody tr th {\n",
       "        vertical-align: top;\n",
       "    }\n",
       "\n",
       "    .dataframe thead th {\n",
       "        text-align: right;\n",
       "    }\n",
       "</style>\n",
       "<table border=\"1\" class=\"dataframe\">\n",
       "  <thead>\n",
       "    <tr style=\"text-align: right;\">\n",
       "      <th>date</th>\n",
       "      <th>stock</th>\n",
       "      <th>2011-01-07 00:00:00</th>\n",
       "      <th>2011-01-14 00:00:00</th>\n",
       "      <th>2011-01-21 00:00:00</th>\n",
       "      <th>2011-01-28 00:00:00</th>\n",
       "      <th>2011-02-04 00:00:00</th>\n",
       "      <th>2011-02-11 00:00:00</th>\n",
       "      <th>2011-02-18 00:00:00</th>\n",
       "      <th>2011-02-25 00:00:00</th>\n",
       "      <th>2011-03-04 00:00:00</th>\n",
       "      <th>...</th>\n",
       "      <th>2011-04-21 00:00:00</th>\n",
       "      <th>2011-04-29 00:00:00</th>\n",
       "      <th>2011-05-06 00:00:00</th>\n",
       "      <th>2011-05-13 00:00:00</th>\n",
       "      <th>2011-05-20 00:00:00</th>\n",
       "      <th>2011-05-27 00:00:00</th>\n",
       "      <th>2011-06-03 00:00:00</th>\n",
       "      <th>2011-06-10 00:00:00</th>\n",
       "      <th>2011-06-17 00:00:00</th>\n",
       "      <th>2011-06-24 00:00:00</th>\n",
       "    </tr>\n",
       "  </thead>\n",
       "  <tbody>\n",
       "    <tr>\n",
       "      <th>0</th>\n",
       "      <td>AA</td>\n",
       "      <td>$16.42</td>\n",
       "      <td>$15.97</td>\n",
       "      <td>$15.79</td>\n",
       "      <td>$16.13</td>\n",
       "      <td>$17.14</td>\n",
       "      <td>$17.37</td>\n",
       "      <td>$17.28</td>\n",
       "      <td>$16.68</td>\n",
       "      <td>$16.58</td>\n",
       "      <td>...</td>\n",
       "      <td>$16.97</td>\n",
       "      <td>$17.00</td>\n",
       "      <td>$17.15</td>\n",
       "      <td>$17.10</td>\n",
       "      <td>$16.26</td>\n",
       "      <td>$16.48</td>\n",
       "      <td>$15.92</td>\n",
       "      <td>$15.28</td>\n",
       "      <td>$14.72</td>\n",
       "      <td>$15.23</td>\n",
       "    </tr>\n",
       "    <tr>\n",
       "      <th>1</th>\n",
       "      <td>AXP</td>\n",
       "      <td>$44.36</td>\n",
       "      <td>$46.25</td>\n",
       "      <td>$46.00</td>\n",
       "      <td>$43.86</td>\n",
       "      <td>$43.82</td>\n",
       "      <td>$46.75</td>\n",
       "      <td>$45.53</td>\n",
       "      <td>$43.53</td>\n",
       "      <td>$43.72</td>\n",
       "      <td>...</td>\n",
       "      <td>$47.11</td>\n",
       "      <td>$49.08</td>\n",
       "      <td>$50.20</td>\n",
       "      <td>$49.49</td>\n",
       "      <td>$51.19</td>\n",
       "      <td>$51.13</td>\n",
       "      <td>$49.28</td>\n",
       "      <td>$47.74</td>\n",
       "      <td>$48.50</td>\n",
       "      <td>$48.34</td>\n",
       "    </tr>\n",
       "    <tr>\n",
       "      <th>2</th>\n",
       "      <td>BA</td>\n",
       "      <td>$69.38</td>\n",
       "      <td>$70.07</td>\n",
       "      <td>$71.68</td>\n",
       "      <td>$69.23</td>\n",
       "      <td>$71.38</td>\n",
       "      <td>$72.14</td>\n",
       "      <td>$73.04</td>\n",
       "      <td>$72.30</td>\n",
       "      <td>$71.80</td>\n",
       "      <td>...</td>\n",
       "      <td>$75.44</td>\n",
       "      <td>$79.78</td>\n",
       "      <td>$79.31</td>\n",
       "      <td>$79.03</td>\n",
       "      <td>$77.52</td>\n",
       "      <td>$76.99</td>\n",
       "      <td>$74.84</td>\n",
       "      <td>$72.69</td>\n",
       "      <td>$74.16</td>\n",
       "      <td>$71.26</td>\n",
       "    </tr>\n",
       "    <tr>\n",
       "      <th>3</th>\n",
       "      <td>BAC</td>\n",
       "      <td>$14.25</td>\n",
       "      <td>$15.25</td>\n",
       "      <td>$14.25</td>\n",
       "      <td>$13.60</td>\n",
       "      <td>$14.29</td>\n",
       "      <td>$14.77</td>\n",
       "      <td>$14.75</td>\n",
       "      <td>$14.20</td>\n",
       "      <td>$14.12</td>\n",
       "      <td>...</td>\n",
       "      <td>$12.31</td>\n",
       "      <td>$12.28</td>\n",
       "      <td>$12.31</td>\n",
       "      <td>$11.93</td>\n",
       "      <td>$11.58</td>\n",
       "      <td>$11.69</td>\n",
       "      <td>$11.28</td>\n",
       "      <td>$10.80</td>\n",
       "      <td>$10.68</td>\n",
       "      <td>$10.52</td>\n",
       "    </tr>\n",
       "    <tr>\n",
       "      <th>4</th>\n",
       "      <td>CAT</td>\n",
       "      <td>$93.73</td>\n",
       "      <td>$94.01</td>\n",
       "      <td>$92.75</td>\n",
       "      <td>$95.68</td>\n",
       "      <td>$99.59</td>\n",
       "      <td>$103.54</td>\n",
       "      <td>$105.86</td>\n",
       "      <td>$102.00</td>\n",
       "      <td>$103.04</td>\n",
       "      <td>...</td>\n",
       "      <td>$109.42</td>\n",
       "      <td>$115.41</td>\n",
       "      <td>$110.34</td>\n",
       "      <td>$106.33</td>\n",
       "      <td>$104.33</td>\n",
       "      <td>$104.60</td>\n",
       "      <td>$101.10</td>\n",
       "      <td>$96.79</td>\n",
       "      <td>$95.95</td>\n",
       "      <td>$100.01</td>\n",
       "    </tr>\n",
       "  </tbody>\n",
       "</table>\n",
       "<p>5 rows × 26 columns</p>\n",
       "</div>"
      ],
      "text/plain": [
       "date stock 2011-01-07 00:00:00 2011-01-14 00:00:00 2011-01-21 00:00:00  \\\n",
       "0       AA              $16.42              $15.97              $15.79   \n",
       "1      AXP              $44.36              $46.25              $46.00   \n",
       "2       BA              $69.38              $70.07              $71.68   \n",
       "3      BAC              $14.25              $15.25              $14.25   \n",
       "4      CAT              $93.73              $94.01              $92.75   \n",
       "\n",
       "date 2011-01-28 00:00:00 2011-02-04 00:00:00 2011-02-11 00:00:00  \\\n",
       "0                 $16.13              $17.14              $17.37   \n",
       "1                 $43.86              $43.82              $46.75   \n",
       "2                 $69.23              $71.38              $72.14   \n",
       "3                 $13.60              $14.29              $14.77   \n",
       "4                 $95.68              $99.59             $103.54   \n",
       "\n",
       "date 2011-02-18 00:00:00 2011-02-25 00:00:00 2011-03-04 00:00:00  \\\n",
       "0                 $17.28              $16.68              $16.58   \n",
       "1                 $45.53              $43.53              $43.72   \n",
       "2                 $73.04              $72.30              $71.80   \n",
       "3                 $14.75              $14.20              $14.12   \n",
       "4                $105.86             $102.00             $103.04   \n",
       "\n",
       "date         ...         2011-04-21 00:00:00 2011-04-29 00:00:00  \\\n",
       "0            ...                      $16.97              $17.00   \n",
       "1            ...                      $47.11              $49.08   \n",
       "2            ...                      $75.44              $79.78   \n",
       "3            ...                      $12.31              $12.28   \n",
       "4            ...                     $109.42             $115.41   \n",
       "\n",
       "date 2011-05-06 00:00:00 2011-05-13 00:00:00 2011-05-20 00:00:00  \\\n",
       "0                 $17.15              $17.10              $16.26   \n",
       "1                 $50.20              $49.49              $51.19   \n",
       "2                 $79.31              $79.03              $77.52   \n",
       "3                 $12.31              $11.93              $11.58   \n",
       "4                $110.34             $106.33             $104.33   \n",
       "\n",
       "date 2011-05-27 00:00:00 2011-06-03 00:00:00 2011-06-10 00:00:00  \\\n",
       "0                 $16.48              $15.92              $15.28   \n",
       "1                 $51.13              $49.28              $47.74   \n",
       "2                 $76.99              $74.84              $72.69   \n",
       "3                 $11.69              $11.28              $10.80   \n",
       "4                $104.60             $101.10              $96.79   \n",
       "\n",
       "date 2011-06-17 00:00:00 2011-06-24 00:00:00  \n",
       "0                 $14.72              $15.23  \n",
       "1                 $48.50              $48.34  \n",
       "2                 $74.16              $71.26  \n",
       "3                 $10.68              $10.52  \n",
       "4                 $95.95             $100.01  \n",
       "\n",
       "[5 rows x 26 columns]"
      ]
     },
     "execution_count": 72,
     "metadata": {},
     "output_type": "execute_result"
    }
   ],
   "source": [
    "df_pivot = df.pivot('stock','date','close').reset_index()\n",
    "df_pivot.head()\n",
    "# df_pivot.dtypes"
   ]
  },
  {
   "cell_type": "code",
   "execution_count": 73,
   "metadata": {},
   "outputs": [
    {
     "ename": "ValueError",
     "evalue": "could not convert string to float: '$76.78'",
     "output_type": "error",
     "traceback": [
      "\u001b[0;31m---------------------------------------------------------------------------\u001b[0m",
      "\u001b[0;31mValueError\u001b[0m                                Traceback (most recent call last)",
      "\u001b[0;32m<ipython-input-73-1554bd9ca185>\u001b[0m in \u001b[0;36m<module>\u001b[0;34m()\u001b[0m\n\u001b[1;32m      2\u001b[0m \u001b[0;32mfrom\u001b[0m \u001b[0msklearn\u001b[0m\u001b[0;34m.\u001b[0m\u001b[0mmanifold\u001b[0m \u001b[0;32mimport\u001b[0m \u001b[0mMDS\u001b[0m\u001b[0;34m\u001b[0m\u001b[0;34m\u001b[0m\u001b[0m\n\u001b[1;32m      3\u001b[0m \u001b[0;31m# mds_coords = MDS().fit_transform(distances)\u001b[0m\u001b[0;34m\u001b[0m\u001b[0;34m\u001b[0m\u001b[0;34m\u001b[0m\u001b[0m\n\u001b[0;32m----> 4\u001b[0;31m \u001b[0mcorrelations\u001b[0m \u001b[0;34m=\u001b[0m \u001b[0mnp\u001b[0m\u001b[0;34m.\u001b[0m\u001b[0mcorrcoef\u001b[0m\u001b[0;34m(\u001b[0m\u001b[0mnp\u001b[0m\u001b[0;34m.\u001b[0m\u001b[0mfloat64\u001b[0m\u001b[0;34m(\u001b[0m\u001b[0mnp\u001b[0m\u001b[0;34m.\u001b[0m\u001b[0marray\u001b[0m\u001b[0;34m(\u001b[0m\u001b[0mdf_pivot\u001b[0m\u001b[0;34m)\u001b[0m\u001b[0;34m[\u001b[0m\u001b[0;34m:\u001b[0m\u001b[0;34m,\u001b[0m\u001b[0;36m2\u001b[0m\u001b[0;34m:\u001b[0m\u001b[0;34m]\u001b[0m\u001b[0;34m)\u001b[0m\u001b[0;34m)\u001b[0m\u001b[0;34m\u001b[0m\u001b[0;34m\u001b[0m\u001b[0m\n\u001b[0m\u001b[1;32m      5\u001b[0m \u001b[0mmds_coords\u001b[0m \u001b[0;34m=\u001b[0m \u001b[0mMDS\u001b[0m\u001b[0;34m(\u001b[0m\u001b[0;34m)\u001b[0m\u001b[0;34m.\u001b[0m\u001b[0mfit_transform\u001b[0m\u001b[0;34m(\u001b[0m\u001b[0mcorrelations\u001b[0m\u001b[0;34m)\u001b[0m\u001b[0;34m\u001b[0m\u001b[0;34m\u001b[0m\u001b[0m\n",
      "\u001b[0;31mValueError\u001b[0m: could not convert string to float: '$76.78'"
     ]
    }
   ],
   "source": [
    "import numpy as np\n",
    "from sklearn.manifold import MDS\n",
    "# mds_coords = MDS().fit_transform(distances)\n",
    "correlations = np.corrcoef(np.float64(np.array(df_pivot)[:,2:]))\n",
    "mds_coords = MDS().fit_transform(correlations)"
   ]
  },
  {
   "cell_type": "code",
   "execution_count": null,
   "metadata": {},
   "outputs": [],
   "source": [
    "pd.DataFrame(mds_coords).plot(kind='scatter',x=1,y=0)"
   ]
  },
  {
   "cell_type": "code",
   "execution_count": null,
   "metadata": {},
   "outputs": [],
   "source": [
    "df_pivot.iloc[0:2].transpose().iloc[2:].plot(kind='scatter',x=0,y=1)"
   ]
  },
  {
   "cell_type": "code",
   "execution_count": null,
   "metadata": {},
   "outputs": [],
   "source": [
    "import numpy as np\n",
    "correlations = np.corrcoef(np.float64(np.array(df_pivot)[:,2:]))\n",
    "mds_coords = MDS().fit_transform(correlations)\n",
    "pd.DataFrame(mds_coords).plot(kind='scatter',x=1,y=0)\n"
   ]
  },
  {
   "cell_type": "code",
   "execution_count": null,
   "metadata": {},
   "outputs": [],
   "source": [
    "tpd = df_pivot.iloc[0:2].transpose().iloc[1:]\n",
    "tpd.dtypes"
   ]
  },
  {
   "cell_type": "code",
   "execution_count": null,
   "metadata": {},
   "outputs": [],
   "source": [
    "print(pd.to_numeric(tpd['0'], errors='ignore'))\n",
    "tpd.columns"
   ]
  },
  {
   "cell_type": "code",
   "execution_count": null,
   "metadata": {},
   "outputs": [],
   "source": [
    "df_pivot2 = df.pivot_table(index=['stock'], columns=['date'], values=['close'],dropna=True, fill_value='')"
   ]
  },
  {
   "cell_type": "code",
   "execution_count": null,
   "metadata": {},
   "outputs": [],
   "source": [
    "df_pivot2.head(2).transpose().plot(kind='scatter',x=0,y=1)"
   ]
  },
  {
   "cell_type": "code",
   "execution_count": null,
   "metadata": {},
   "outputs": [],
   "source": [
    "import scipy.stats\n",
    "correlations2 = scipy.stats.spearmanr(np.float64(np.array(df_pivot)\n",
    "[:,1:]))\n",
    "mds_coords = MDS().fit_transform(correlations2.correlation)\n",
    "pd.DataFrame(mds_coords).plot(kind='scatter',x=1,y=0)"
   ]
  },
  {
   "cell_type": "code",
   "execution_count": null,
   "metadata": {},
   "outputs": [],
   "source": [
    "pd.DataFrame(mds_coords).head()"
   ]
  },
  {
   "cell_type": "code",
   "execution_count": null,
   "metadata": {},
   "outputs": [],
   "source": [
    "%%bash\n",
    "# pip install fastdtw"
   ]
  },
  {
   "cell_type": "code",
   "execution_count": 74,
   "metadata": {},
   "outputs": [
    {
     "ename": "ModuleNotFoundError",
     "evalue": "No module named 'fastdtw'",
     "output_type": "error",
     "traceback": [
      "\u001b[0;31m---------------------------------------------------------------------------\u001b[0m",
      "\u001b[0;31mModuleNotFoundError\u001b[0m                       Traceback (most recent call last)",
      "\u001b[0;32m<ipython-input-74-83bd324d33e0>\u001b[0m in \u001b[0;36m<module>\u001b[0;34m()\u001b[0m\n\u001b[0;32m----> 1\u001b[0;31m \u001b[0;32mfrom\u001b[0m \u001b[0mfastdtw\u001b[0m \u001b[0;32mimport\u001b[0m \u001b[0mfastdtw\u001b[0m\u001b[0;34m\u001b[0m\u001b[0;34m\u001b[0m\u001b[0m\n\u001b[0m\u001b[1;32m      2\u001b[0m \u001b[0mdtw_matrix\u001b[0m \u001b[0;34m=\u001b[0m \u001b[0mnp\u001b[0m\u001b[0;34m.\u001b[0m\u001b[0mzeros\u001b[0m\u001b[0;34m(\u001b[0m\u001b[0mshape\u001b[0m\u001b[0;34m=\u001b[0m\u001b[0;34m(\u001b[0m\u001b[0mdf_pivot\u001b[0m\u001b[0;34m.\u001b[0m\u001b[0mshape\u001b[0m\u001b[0;34m[\u001b[0m\u001b[0;36m0\u001b[0m\u001b[0;34m]\u001b[0m\u001b[0;34m,\u001b[0m\u001b[0mdf_pivot\u001b[0m\u001b[0;34m.\u001b[0m\u001b[0mshape\u001b[0m\u001b[0;34m[\u001b[0m\u001b[0;36m0\u001b[0m\u001b[0;34m]\u001b[0m\u001b[0;34m)\u001b[0m\u001b[0;34m)\u001b[0m\u001b[0;34m\u001b[0m\u001b[0;34m\u001b[0m\u001b[0m\n",
      "\u001b[0;31mModuleNotFoundError\u001b[0m: No module named 'fastdtw'"
     ]
    }
   ],
   "source": [
    "from fastdtw import fastdtw\n",
    "dtw_matrix = np.zeros(shape=(df_pivot.shape[0],df_pivot.shape[0]))"
   ]
  },
  {
   "cell_type": "code",
   "execution_count": null,
   "metadata": {},
   "outputs": [],
   "source": [
    "… for i in np.arange(0,df_pivot.shape[0]):\n",
    "… for j in np.arange(i+1,df_pivot.shape[0]):\n",
    "… dtw_matrix[i,j] = fastdtw(df_pivot.iloc[i,2:],df_pivot.\n",
    "iloc[j,2:])[0]"
   ]
  }
 ],
 "metadata": {
  "kernelspec": {
   "display_name": "Python 3",
   "language": "python",
   "name": "python3"
  },
  "language_info": {
   "codemirror_mode": {
    "name": "ipython",
    "version": 3
   },
   "file_extension": ".py",
   "mimetype": "text/x-python",
   "name": "python",
   "nbconvert_exporter": "python",
   "pygments_lexer": "ipython3",
   "version": "3.6.7"
  },
  "toc": {
   "base_numbering": 1,
   "nav_menu": {},
   "number_sections": true,
   "sideBar": true,
   "skip_h1_title": false,
   "title_cell": "Table of Contents",
   "title_sidebar": "Contents",
   "toc_cell": false,
   "toc_position": {},
   "toc_section_display": true,
   "toc_window_display": false
  },
  "varInspector": {
   "cols": {
    "lenName": 16,
    "lenType": 16,
    "lenVar": 40
   },
   "kernels_config": {
    "python": {
     "delete_cmd_postfix": "",
     "delete_cmd_prefix": "del ",
     "library": "var_list.py",
     "varRefreshCmd": "print(var_dic_list())"
    },
    "r": {
     "delete_cmd_postfix": ") ",
     "delete_cmd_prefix": "rm(",
     "library": "var_list.r",
     "varRefreshCmd": "cat(var_dic_list()) "
    }
   },
   "types_to_exclude": [
    "module",
    "function",
    "builtin_function_or_method",
    "instance",
    "_Feature"
   ],
   "window_display": false
  }
 },
 "nbformat": 4,
 "nbformat_minor": 2
}
