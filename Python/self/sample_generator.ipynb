{
 "cells": [
  {
   "cell_type": "code",
   "execution_count": 2,
   "metadata": {},
   "outputs": [],
   "source": [
    "import pandas as pd\n",
    "from datetime import date, datetime, timedelta\n",
    "import random\n",
    "from IPython.core.interactiveshell import InteractiveShell\n",
    "InteractiveShell.ast_node_interactivity = \"all\"\n",
    "from faker import Faker\n",
    "fake = Faker()"
   ]
  },
  {
   "cell_type": "code",
   "execution_count": 3,
   "metadata": {},
   "outputs": [],
   "source": [
    "def randIntList(ltg, rng_st, rng_end):\n",
    "    return [random.randint(rng_st, rng_end) for i in range(ltg)]"
   ]
  },
  {
   "cell_type": "code",
   "execution_count": 3,
   "metadata": {},
   "outputs": [],
   "source": [
    "def sampleCust(n, id):\n",
    "    '''Generates a customer dimension of n customers, starting from customer ID id'''\n",
    "    cust_dict = {}\n",
    "    cust_dict[\"customer_id\"] = [i for i in range(id, id+n)]\n",
    "    cust_dict[\"customer_name\"] = [fake.name() for i in range(0, n)]\n",
    "    cust_dict[\"customer_address\"] = [fake.address() for i in range(0, n)]\n",
    "    return cust_dict"
   ]
  },
  {
   "cell_type": "code",
   "execution_count": 4,
   "metadata": {},
   "outputs": [
    {
     "name": "stdout",
     "output_type": "stream",
     "text": "/Users/richard.mcmaster/Documents/Plista/Analytics\n"
    }
   ],
   "source": [
    "%%bash\n",
    "cd /Users/richard.mcmaster/Documents/Plista/Analytics\n",
    "pwd"
   ]
  },
  {
   "cell_type": "code",
   "execution_count": 5,
   "metadata": {},
   "outputs": [
    {
     "data": {
      "text/html": "<div>\n<style scoped>\n    .dataframe tbody tr th:only-of-type {\n        vertical-align: middle;\n    }\n\n    .dataframe tbody tr th {\n        vertical-align: top;\n    }\n\n    .dataframe thead th {\n        text-align: right;\n    }\n</style>\n<table border=\"1\" class=\"dataframe\">\n  <thead>\n    <tr style=\"text-align: right;\">\n      <th></th>\n      <th>customer_id</th>\n      <th>customer_name</th>\n      <th>customer_address</th>\n    </tr>\n  </thead>\n  <tbody>\n    <tr>\n      <th>0</th>\n      <td>300000</td>\n      <td>Jeffrey Donaldson</td>\n      <td>PSC 8696, Box 7315\\nAPO AE 23084</td>\n    </tr>\n    <tr>\n      <th>1</th>\n      <td>300001</td>\n      <td>Tina Blair</td>\n      <td>Unit 1775 Box 9727\\nDPO AE 80352</td>\n    </tr>\n    <tr>\n      <th>2</th>\n      <td>300002</td>\n      <td>Tanner Stephens</td>\n      <td>27238 Williams Ports\\nLake Patricia, AZ 43330</td>\n    </tr>\n    <tr>\n      <th>3</th>\n      <td>300003</td>\n      <td>Maurice Williams</td>\n      <td>26282 Brown Square\\nRodriguezton, NE 76657</td>\n    </tr>\n    <tr>\n      <th>4</th>\n      <td>300004</td>\n      <td>James Jimenez</td>\n      <td>4543 Meyer Court Suite 095\\nKellybury, IN 89958</td>\n    </tr>\n  </tbody>\n</table>\n</div>",
      "text/plain": "   customer_id      customer_name  \\\n0       300000  Jeffrey Donaldson   \n1       300001         Tina Blair   \n2       300002    Tanner Stephens   \n3       300003   Maurice Williams   \n4       300004      James Jimenez   \n\n                                  customer_address  \n0                 PSC 8696, Box 7315\\nAPO AE 23084  \n1                 Unit 1775 Box 9727\\nDPO AE 80352  \n2    27238 Williams Ports\\nLake Patricia, AZ 43330  \n3       26282 Brown Square\\nRodriguezton, NE 76657  \n4  4543 Meyer Court Suite 095\\nKellybury, IN 89958  "
     },
     "execution_count": 5,
     "metadata": {},
     "output_type": "execute_result"
    }
   ],
   "source": [
    "customer_df = pd.DataFrame(sampleCust(100000, 300000))\n",
    "customer_df.head()\n",
    "customer_df.to_csv('dim_customer_sample.csv', index=False)"
   ]
  },
  {
   "cell_type": "code",
   "execution_count": 4,
   "metadata": {},
   "outputs": [],
   "source": [
    "def sampleSales(n=1000, start_date=date(2018, 6, 1), end_date=date(2019, 11, 30)):\n",
    "    '''Generates a sales fact table of n sales, in specified date range, with 20 products and 1000 customers'''\n",
    "    sales_dict = {}\n",
    "    sales_dict[\"sales_date\"] = [start_date + timedelta(days=random.randint(0, (end_date-start_date).days)) for i in range(0, n)]\n",
    "    sales_dict[\"product_id\"] = randIntList(n, 40001, 40020)\n",
    "    sales_dict[\"customer_id\"] = randIntList(n, 300001, 400000)\n",
    "    sales_dict[\"sales_amount\"] = [random.uniform(10.5,100.5) for i in range(0, n)]\n",
    "    return sales_dict"
   ]
  },
  {
   "cell_type": "code",
   "execution_count": 5,
   "metadata": {},
   "outputs": [],
   "source": [
    "sales_df = pd.DataFrame(sampleSales(n=10000000, start_date=date(2018, 1, 1), end_date=date(2019, 11, 30)))"
   ]
  },
  {
   "cell_type": "code",
   "execution_count": 6,
   "metadata": {},
   "outputs": [
    {
     "data": {
      "text/plain": "'10,000,000'"
     },
     "execution_count": 6,
     "metadata": {},
     "output_type": "execute_result"
    },
    {
     "data": {
      "text/html": "<div>\n<style scoped>\n    .dataframe tbody tr th:only-of-type {\n        vertical-align: middle;\n    }\n\n    .dataframe tbody tr th {\n        vertical-align: top;\n    }\n\n    .dataframe thead th {\n        text-align: right;\n    }\n</style>\n<table border=\"1\" class=\"dataframe\">\n  <thead>\n    <tr style=\"text-align: right;\">\n      <th></th>\n      <th>sales_date</th>\n      <th>product_id</th>\n      <th>customer_id</th>\n      <th>sales_amount</th>\n    </tr>\n  </thead>\n  <tbody>\n    <tr>\n      <th>0</th>\n      <td>2019-10-03</td>\n      <td>40014</td>\n      <td>309530</td>\n      <td>35.173247</td>\n    </tr>\n    <tr>\n      <th>1</th>\n      <td>2019-06-12</td>\n      <td>40003</td>\n      <td>317886</td>\n      <td>77.202493</td>\n    </tr>\n    <tr>\n      <th>2</th>\n      <td>2019-10-28</td>\n      <td>40011</td>\n      <td>303073</td>\n      <td>34.482907</td>\n    </tr>\n    <tr>\n      <th>3</th>\n      <td>2019-10-21</td>\n      <td>40016</td>\n      <td>348482</td>\n      <td>22.939194</td>\n    </tr>\n    <tr>\n      <th>4</th>\n      <td>2018-08-21</td>\n      <td>40002</td>\n      <td>377055</td>\n      <td>56.345857</td>\n    </tr>\n  </tbody>\n</table>\n</div>",
      "text/plain": "   sales_date  product_id  customer_id  sales_amount\n0  2019-10-03       40014       309530     35.173247\n1  2019-06-12       40003       317886     77.202493\n2  2019-10-28       40011       303073     34.482907\n3  2019-10-21       40016       348482     22.939194\n4  2018-08-21       40002       377055     56.345857"
     },
     "execution_count": 6,
     "metadata": {},
     "output_type": "execute_result"
    }
   ],
   "source": [
    "f'{len(sales_df):,}'\n",
    "sales_df.head()"
   ]
  },
  {
   "cell_type": "code",
   "execution_count": null,
   "metadata": {},
   "outputs": [],
   "source": []
  },
  {
   "source": [
    "sales_df.to_csv('fact_sales_sample.gz', index=False, compression='gzip')"
   ],
   "cell_type": "code",
   "outputs": [],
   "metadata": {},
   "execution_count": 7
  }
 ],
 "metadata": {
  "kernelspec": {
   "display_name": "Python 3",
   "language": "python",
   "name": "python3"
  },
  "language_info": {
   "codemirror_mode": {
    "name": "ipython",
    "version": 3
   },
   "file_extension": ".py",
   "mimetype": "text/x-python",
   "name": "python",
   "nbconvert_exporter": "python",
   "pygments_lexer": "ipython3",
   "version": "3.6.5"
  },
  "toc": {
   "base_numbering": 1,
   "nav_menu": {},
   "number_sections": true,
   "sideBar": true,
   "skip_h1_title": false,
   "title_cell": "Table of Contents",
   "title_sidebar": "Contents",
   "toc_cell": false,
   "toc_position": {},
   "toc_section_display": true,
   "toc_window_display": false
  },
  "varInspector": {
   "cols": {
    "lenName": 16,
    "lenType": 16,
    "lenVar": 40
   },
   "kernels_config": {
    "python": {
     "delete_cmd_postfix": "",
     "delete_cmd_prefix": "del ",
     "library": "var_list.py",
     "varRefreshCmd": "print(var_dic_list())"
    },
    "r": {
     "delete_cmd_postfix": ") ",
     "delete_cmd_prefix": "rm(",
     "library": "var_list.r",
     "varRefreshCmd": "cat(var_dic_list()) "
    }
   },
   "types_to_exclude": [
    "module",
    "function",
    "builtin_function_or_method",
    "instance",
    "_Feature"
   ],
   "window_display": false
  }
 },
 "nbformat": 4,
 "nbformat_minor": 2
}