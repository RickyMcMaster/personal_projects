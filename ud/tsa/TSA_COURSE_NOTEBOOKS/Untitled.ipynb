{
 "cells": [
  {
   "cell_type": "code",
   "execution_count": 4,
   "metadata": {},
   "outputs": [
    {
     "name": "stdout",
     "output_type": "stream",
     "text": [
      "Requirement already satisfied: pmdarima in /Users/richard.mcmaster/anaconda3/lib/python3.6/site-packages (1.5.2)\n",
      "Requirement already satisfied: scikit-learn>=0.19 in /Users/richard.mcmaster/anaconda3/lib/python3.6/site-packages (from pmdarima) (0.20.1)\n",
      "Requirement already satisfied: statsmodels>=0.10.0 in /Users/richard.mcmaster/anaconda3/lib/python3.6/site-packages (from pmdarima) (0.11.0)\n",
      "Requirement already satisfied: Cython>=0.29 in /Users/richard.mcmaster/anaconda3/lib/python3.6/site-packages (from pmdarima) (0.29.14)\n",
      "Requirement already satisfied: joblib>=0.11 in /Users/richard.mcmaster/anaconda3/lib/python3.6/site-packages (from pmdarima) (0.14.1)\n",
      "Requirement already satisfied: pandas>=0.19 in /Users/richard.mcmaster/anaconda3/lib/python3.6/site-packages (from pmdarima) (0.23.4)\n",
      "Requirement already satisfied: scipy>=1.3 in /Users/richard.mcmaster/anaconda3/lib/python3.6/site-packages (from pmdarima) (1.4.1)\n",
      "Requirement already satisfied: numpy>=1.16 in /Users/richard.mcmaster/anaconda3/lib/python3.6/site-packages (from pmdarima) (1.18.1)\n",
      "Requirement already satisfied: patsy>=0.5 in /Users/richard.mcmaster/anaconda3/lib/python3.6/site-packages (from statsmodels>=0.10.0->pmdarima) (0.5.0)\n",
      "Requirement already satisfied: python-dateutil>=2.5.0 in /Users/richard.mcmaster/anaconda3/lib/python3.6/site-packages (from pandas>=0.19->pmdarima) (2.7.3)\n",
      "Requirement already satisfied: pytz>=2011k in /Users/richard.mcmaster/anaconda3/lib/python3.6/site-packages (from pandas>=0.19->pmdarima) (2018.4)\n",
      "Requirement already satisfied: six in /Users/richard.mcmaster/anaconda3/lib/python3.6/site-packages (from patsy>=0.5->statsmodels>=0.10.0->pmdarima) (1.11.0)\n"
     ]
    }
   ],
   "source": [
    "!pip install pmdarima"
   ]
  },
  {
   "cell_type": "code",
   "execution_count": null,
   "metadata": {},
   "outputs": [],
   "source": []
  }
 ],
 "metadata": {
  "kernelspec": {
   "display_name": "Python 3",
   "language": "python",
   "name": "python3"
  },
  "language_info": {
   "codemirror_mode": {
    "name": "ipython",
    "version": 3
   },
   "file_extension": ".py",
   "mimetype": "text/x-python",
   "name": "python",
   "nbconvert_exporter": "python",
   "pygments_lexer": "ipython3",
   "version": "3.6.7"
  },
  "toc": {
   "base_numbering": 1,
   "nav_menu": {},
   "number_sections": true,
   "sideBar": true,
   "skip_h1_title": false,
   "title_cell": "Table of Contents",
   "title_sidebar": "Contents",
   "toc_cell": false,
   "toc_position": {},
   "toc_section_display": true,
   "toc_window_display": false
  },
  "varInspector": {
   "cols": {
    "lenName": 16,
    "lenType": 16,
    "lenVar": 40
   },
   "kernels_config": {
    "python": {
     "delete_cmd_postfix": "",
     "delete_cmd_prefix": "del ",
     "library": "var_list.py",
     "varRefreshCmd": "print(var_dic_list())"
    },
    "r": {
     "delete_cmd_postfix": ") ",
     "delete_cmd_prefix": "rm(",
     "library": "var_list.r",
     "varRefreshCmd": "cat(var_dic_list()) "
    }
   },
   "types_to_exclude": [
    "module",
    "function",
    "builtin_function_or_method",
    "instance",
    "_Feature"
   ],
   "window_display": false
  }
 },
 "nbformat": 4,
 "nbformat_minor": 2
}
