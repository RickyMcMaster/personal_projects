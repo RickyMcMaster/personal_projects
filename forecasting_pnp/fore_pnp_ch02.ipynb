{
 "cells": [
  {
   "cell_type": "code",
   "execution_count": 12,
   "metadata": {},
   "outputs": [
    {
     "name": "stderr",
     "output_type": "stream",
     "text": [
      "also installing the dependency ‘fable’\n",
      "\n"
     ]
    },
    {
     "name": "stdout",
     "output_type": "stream",
     "text": [
      "\n",
      "  There are binary versions available but the source versions are later:\n",
      "      binary source needs_compilation\n",
      "fable  0.1.2  0.2.1              TRUE\n",
      "fpp3     0.2    0.3             FALSE\n",
      "\n"
     ]
    },
    {
     "name": "stderr",
     "output_type": "stream",
     "text": [
      "installing the source packages ‘fable’, ‘fpp3’\n",
      "\n",
      "Warning message in install.packages(\"fpp3\"):\n",
      "“installation of package ‘fable’ had non-zero exit status”Warning message in install.packages(\"fpp3\"):\n",
      "“installation of package ‘fpp3’ had non-zero exit status”"
     ]
    }
   ],
   "source": [
    "install.packages(\"fpp3\")"
   ]
  },
  {
   "cell_type": "code",
   "execution_count": 11,
   "metadata": {},
   "outputs": [
    {
     "ename": "ERROR",
     "evalue": "Error in library(fpp3): there is no package called ‘fpp3’\n",
     "output_type": "error",
     "traceback": [
      "Error in library(fpp3): there is no package called ‘fpp3’\nTraceback:\n",
      "1. library(fpp3)",
      "2. stop(txt, domain = NA)"
     ]
    }
   ],
   "source": [
    "library(tsibble)\n",
    "library(fpp3)"
   ]
  },
  {
   "cell_type": "code",
   "execution_count": 4,
   "metadata": {},
   "outputs": [],
   "source": [
    "y <- tsibble(Year = 2015:2019, Observation = c(123,39,78,52,110), index = Year)"
   ]
  },
  {
   "cell_type": "code",
   "execution_count": 5,
   "metadata": {},
   "outputs": [
    {
     "data": {
      "text/html": [
       "<table>\n",
       "<thead><tr><th scope=col>Year</th><th scope=col>Observation</th></tr></thead>\n",
       "<tbody>\n",
       "\t<tr><td>2015</td><td>123 </td></tr>\n",
       "\t<tr><td>2016</td><td> 39 </td></tr>\n",
       "\t<tr><td>2017</td><td> 78 </td></tr>\n",
       "\t<tr><td>2018</td><td> 52 </td></tr>\n",
       "\t<tr><td>2019</td><td>110 </td></tr>\n",
       "</tbody>\n",
       "</table>\n"
      ],
      "text/latex": [
       "\\begin{tabular}{r|ll}\n",
       " Year & Observation\\\\\n",
       "\\hline\n",
       "\t 2015 & 123 \\\\\n",
       "\t 2016 &  39 \\\\\n",
       "\t 2017 &  78 \\\\\n",
       "\t 2018 &  52 \\\\\n",
       "\t 2019 & 110 \\\\\n",
       "\\end{tabular}\n"
      ],
      "text/markdown": [
       "\n",
       "Year | Observation | \n",
       "|---|---|---|---|---|\n",
       "| 2015 | 123  | \n",
       "| 2016 |  39  | \n",
       "| 2017 |  78  | \n",
       "| 2018 |  52  | \n",
       "| 2019 | 110  | \n",
       "\n",
       "\n"
      ],
      "text/plain": [
       "  Year Observation\n",
       "1 2015 123        \n",
       "2 2016  39        \n",
       "3 2017  78        \n",
       "4 2018  52        \n",
       "5 2019 110        "
      ]
     },
     "metadata": {},
     "output_type": "display_data"
    }
   ],
   "source": [
    "y"
   ]
  },
  {
   "cell_type": "code",
   "execution_count": 6,
   "metadata": {},
   "outputs": [
    {
     "ename": "ERROR",
     "evalue": "Error in eval(lhs, parent, parent): object 'z' not found\n",
     "output_type": "error",
     "traceback": [
      "Error in eval(lhs, parent, parent): object 'z' not found\nTraceback:\n",
      "1. z %>% mutate(Month = yearmonth(Month)) %>% as_tsibble(index = Month)",
      "2. eval(lhs, parent, parent)",
      "3. eval(lhs, parent, parent)"
     ]
    }
   ],
   "source": [
    "z %>%\n",
    "  mutate(Month = yearmonth(Month)) %>%\n",
    "  as_tsibble(index = Month)"
   ]
  },
  {
   "cell_type": "code",
   "execution_count": null,
   "metadata": {},
   "outputs": [],
   "source": []
  }
 ],
 "metadata": {
  "kernelspec": {
   "display_name": "R",
   "language": "R",
   "name": "ir"
  },
  "language_info": {
   "codemirror_mode": "r",
   "file_extension": ".r",
   "mimetype": "text/x-r-source",
   "name": "R",
   "pygments_lexer": "r",
   "version": "3.5.0"
  }
 },
 "nbformat": 4,
 "nbformat_minor": 4
}
