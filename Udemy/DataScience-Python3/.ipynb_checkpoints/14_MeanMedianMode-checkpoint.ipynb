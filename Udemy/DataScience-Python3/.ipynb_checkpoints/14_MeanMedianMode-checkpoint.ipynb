{
 "cells": [
  {
   "cell_type": "markdown",
   "metadata": {},
   "source": [
    "# Mean, Median, Mode, and introducing NumPy"
   ]
  },
  {
   "cell_type": "markdown",
   "metadata": {},
   "source": [
    "## Mean vs. Median"
   ]
  },
  {
   "cell_type": "markdown",
   "metadata": {},
   "source": [
    "Let's create some fake income data, centered around 27,000 with a normal distribution and standard deviation of 15,000, with 10,000 data points. (We'll discuss those terms more later, if you're not familiar with them.)\n",
    "\n",
    "Then, compute the mean (average) - it should be close to 27,000:"
   ]
  },
  {
   "cell_type": "code",
   "execution_count": 1,
   "metadata": {},
   "outputs": [
    {
     "data": {
      "text/plain": [
       "26995.216236468823"
      ]
     },
     "execution_count": 1,
     "metadata": {},
     "output_type": "execute_result"
    }
   ],
   "source": [
    "import numpy as np\n",
    "\n",
    "incomes = np.random.normal(27000, 15000, 10000)\n",
    "np.mean(incomes)"
   ]
  },
  {
   "cell_type": "markdown",
   "metadata": {},
   "source": [
    "We can segment the income data into 50 buckets, and plot it as a histogram:"
   ]
  },
  {
   "cell_type": "code",
   "execution_count": 7,
   "metadata": {},
   "outputs": [
    {
     "data": {
      "image/png": "[encoded data removed]",
      "text/plain": [
       "<Figure size 432x288 with 1 Axes>"
      ]
     },
     "metadata": {
      "needs_background": "light"
     },
     "output_type": "display_data"
    }
   ],
   "source": [
    "%matplotlib inline\n",
    "import matplotlib.pyplot as plt\n",
    "plt.hist(incomes, 50)\n",
    "plt.show()"
   ]
  },
  {
   "cell_type": "markdown",
   "metadata": {},
   "source": [
    "Now compute the median - since we have a nice, even distribution it too should be close to 27,000:"
   ]
  },
  {
   "cell_type": "code",
   "execution_count": 3,
   "metadata": {},
   "outputs": [
    {
     "data": {
      "text/plain": [
       "27116.178980022007"
      ]
     },
     "execution_count": 3,
     "metadata": {},
     "output_type": "execute_result"
    }
   ],
   "source": [
    "np.median(incomes)"
   ]
  },
  {
   "cell_type": "markdown",
   "metadata": {},
   "source": [
    "Now we'll add Donald Trump into the mix. Darn income inequality!"
   ]
  },
  {
   "cell_type": "code",
   "execution_count": 4,
   "metadata": {},
   "outputs": [],
   "source": [
    "incomes = np.append(incomes, [1000000000])"
   ]
  },
  {
   "cell_type": "markdown",
   "metadata": {},
   "source": [
    "The median won't change much, but the mean does:"
   ]
  },
  {
   "cell_type": "code",
   "execution_count": 5,
   "metadata": {},
   "outputs": [
    {
     "data": {
      "text/plain": [
       "27116.7147609023"
      ]
     },
     "execution_count": 5,
     "metadata": {},
     "output_type": "execute_result"
    }
   ],
   "source": [
    "np.median(incomes)"
   ]
  },
  {
   "cell_type": "code",
   "execution_count": 6,
   "metadata": {},
   "outputs": [
    {
     "data": {
      "text/plain": [
       "126982.51798467035"
      ]
     },
     "execution_count": 6,
     "metadata": {},
     "output_type": "execute_result"
    }
   ],
   "source": [
    "np.mean(incomes)"
   ]
  },
  {
   "cell_type": "markdown",
   "metadata": {},
   "source": [
    "## Mode"
   ]
  },
  {
   "cell_type": "markdown",
   "metadata": {},
   "source": [
    "Next, let's generate some fake age data for 500 people:"
   ]
  },
  {
   "cell_type": "code",
   "execution_count": 8,
   "metadata": {},
   "outputs": [
    {
     "data": {
      "text/plain": [
       "array([39, 50, 26, 85, 42, 20, 85, 62, 74, 34, 47, 79, 34, 57, 34, 43, 44,\n",
       "       87, 36, 76, 82, 49, 47, 67, 36, 22, 60, 49, 24, 42, 65, 36, 69, 39,\n",
       "       79, 67, 29, 89, 19, 24, 39, 65, 70, 33, 69, 24, 20, 21, 60, 57, 36,\n",
       "       70, 80, 51, 18, 75, 33, 89, 83, 19, 77, 89, 59, 57, 42, 79, 22, 26,\n",
       "       84, 18, 44, 29, 47, 20, 66, 52, 56, 76, 74, 59, 32, 62, 60, 65, 62,\n",
       "       32, 60, 22, 40, 65, 86, 59, 66, 73, 61, 18, 58, 62, 43, 28, 72, 44,\n",
       "       49, 34, 50, 84, 48, 52, 53, 22, 71, 39, 69, 37, 57, 20, 50, 37, 52,\n",
       "       19, 76, 87, 24, 50, 50, 50, 34, 73, 65, 57, 20, 67, 49, 70, 74, 88,\n",
       "       55, 31, 61, 89, 85, 54, 73, 66, 37, 42, 19, 57, 71, 73, 57, 49, 51,\n",
       "       59, 53, 60, 18, 85, 55, 44, 36, 59, 66, 85, 23, 28, 87, 89, 52, 20,\n",
       "       52, 30, 63, 66, 25, 87, 74, 68, 49, 37, 22, 49, 27, 55, 56, 81, 85,\n",
       "       71, 79, 67, 57, 56, 60, 76, 83, 64, 24, 37, 62, 63, 33, 61, 27, 21,\n",
       "       36, 23, 77, 48, 63, 87, 44, 55, 29, 18, 64, 39, 88, 74, 80, 64, 65,\n",
       "       45, 40, 64, 35, 45, 76, 35, 59, 26, 48, 72, 31, 61, 45, 84, 35, 73,\n",
       "       31, 84, 24, 34, 48, 43, 80, 43, 64, 72, 23, 64, 38, 84, 72, 73, 71,\n",
       "       75, 71, 64, 57, 65, 28, 20, 47, 28, 82, 42, 63, 66, 41, 84, 65, 64,\n",
       "       85, 66, 88, 85, 30, 79, 73, 53, 28, 67, 85, 25, 83, 57, 45, 68, 60,\n",
       "       56, 28, 46, 68, 45, 26, 48, 18, 28, 41, 24, 66, 72, 43, 82, 48, 45,\n",
       "       24, 26, 72, 77, 72, 29, 81, 24, 85, 84, 85, 44, 50, 82, 86, 62, 47,\n",
       "       21, 23, 60, 40, 65, 64, 85, 25, 41, 45, 23, 48, 53, 35, 33, 54, 30,\n",
       "       64, 52, 20, 33, 78, 81, 52, 20, 20, 52, 28, 52, 24, 35, 45, 68, 81,\n",
       "       80, 19, 88, 75, 71, 87, 32, 54, 18, 21, 49, 22, 67, 81, 41, 36, 81,\n",
       "       27, 81, 64, 51, 49, 87, 36, 78, 20, 63, 23, 20, 86, 71, 32, 39, 79,\n",
       "       71, 89, 42, 20, 67, 27, 89, 76, 86, 70, 31, 88, 67, 20, 39, 61, 24,\n",
       "       51, 67, 79, 70, 75, 62, 75, 39, 86, 44, 22, 75, 19, 57, 57, 65, 40,\n",
       "       35, 45, 29, 59, 80, 30, 50, 80, 53, 64, 88, 77, 41, 19, 76, 71, 29,\n",
       "       47, 77, 54, 85, 71, 40, 20, 39, 64, 28, 43, 47, 32, 31, 57, 40, 77,\n",
       "       85, 84, 46, 51, 81, 76, 55, 64, 26, 25, 57, 60, 76, 71, 35, 56, 37,\n",
       "       85, 69, 85, 88, 53, 18, 30, 82, 82, 79, 40, 60, 31, 81, 72, 47, 21,\n",
       "       66, 44, 80, 30, 47, 20, 70])"
      ]
     },
     "execution_count": 8,
     "metadata": {},
     "output_type": "execute_result"
    }
   ],
   "source": [
    "ages = np.random.randint(18, high=90, size=500)\n",
    "ages"
   ]
  },
  {
   "cell_type": "code",
   "execution_count": 9,
   "metadata": {},
   "outputs": [
    {
     "data": {
      "text/plain": [
       "ModeResult(mode=array([20]), count=array([16]))"
      ]
     },
     "execution_count": 9,
     "metadata": {},
     "output_type": "execute_result"
    }
   ],
   "source": [
    "from scipy import stats\n",
    "stats.mode(ages)"
   ]
  },
  {
   "cell_type": "code",
   "execution_count": 10,
   "metadata": {},
   "outputs": [
    {
     "data": {
      "image/png": "[encoded data removed]",
      "text/plain": [
       "<Figure size 432x288 with 1 Axes>"
      ]
     },
     "metadata": {
      "needs_background": "light"
     },
     "output_type": "display_data"
    }
   ],
   "source": [
    "plt.hist(ages, 50)\n",
    "plt.show()"
   ]
  },
  {
   "cell_type": "code",
   "execution_count": null,
   "metadata": {},
   "outputs": [],
   "source": []
  }
 ],
 "metadata": {
  "kernelspec": {
   "display_name": "Python 3",
   "language": "python",
   "name": "python3"
  },
  "language_info": {
   "codemirror_mode": {
    "name": "ipython",
    "version": 3
   },
   "file_extension": ".py",
   "mimetype": "text/x-python",
   "name": "python",
   "nbconvert_exporter": "python",
   "pygments_lexer": "ipython3",
   "version": "3.6.7"
  },
  "toc": {
   "base_numbering": 1,
   "nav_menu": {},
   "number_sections": true,
   "sideBar": true,
   "skip_h1_title": false,
   "title_cell": "Table of Contents",
   "title_sidebar": "Contents",
   "toc_cell": false,
   "toc_position": {},
   "toc_section_display": true,
   "toc_window_display": false
  },
  "varInspector": {
   "cols": {
    "lenName": 16,
    "lenType": 16,
    "lenVar": 40
   },
   "kernels_config": {
    "python": {
     "delete_cmd_postfix": "",
     "delete_cmd_prefix": "del ",
     "library": "var_list.py",
     "varRefreshCmd": "print(var_dic_list())"
    },
    "r": {
     "delete_cmd_postfix": ") ",
     "delete_cmd_prefix": "rm(",
     "library": "var_list.r",
     "varRefreshCmd": "cat(var_dic_list()) "
    }
   },
   "types_to_exclude": [
    "module",
    "function",
    "builtin_function_or_method",
    "instance",
    "_Feature"
   ],
   "window_display": false
  }
 },
 "nbformat": 4,
 "nbformat_minor": 1
}
